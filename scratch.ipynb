{
 "cells": [
  {
   "cell_type": "code",
   "execution_count": 219,
   "id": "e1dc11a3",
   "metadata": {},
   "outputs": [],
   "source": [
    "import mst\n",
    "import networkx as nx\n",
    "import numpy as np\n",
    "import heapq\n",
    "from typing import Union"
   ]
  },
  {
   "cell_type": "code",
   "execution_count": 220,
   "id": "5e06bfcc",
   "metadata": {},
   "outputs": [
    {
     "data": {
      "text/plain": [
       "array([[0., 5., 0., 5.],\n",
       "       [5., 0., 1., 2.],\n",
       "       [0., 1., 0., 4.],\n",
       "       [5., 2., 4., 0.]])"
      ]
     },
     "execution_count": 220,
     "metadata": {},
     "output_type": "execute_result"
    }
   ],
   "source": [
    "g = mst.Graph('data/small.csv')\n",
    "g.adj_mat"
   ]
  },
  {
   "cell_type": "code",
   "execution_count": 221,
   "id": "24bd0627",
   "metadata": {},
   "outputs": [
    {
     "data": {
      "text/plain": [
       "6"
      ]
     },
     "execution_count": 221,
     "metadata": {},
     "output_type": "execute_result"
    }
   ],
   "source": [
    "len(np.where(g.adj_mat == 0)[0])"
   ]
  },
  {
   "cell_type": "code",
   "execution_count": null,
   "id": "2d372f8a",
   "metadata": {},
   "outputs": [],
   "source": []
  },
  {
   "cell_type": "code",
   "execution_count": null,
   "id": "74b7d5bc",
   "metadata": {},
   "outputs": [],
   "source": []
  },
  {
   "cell_type": "code",
   "execution_count": 222,
   "id": "48ca2a10",
   "metadata": {},
   "outputs": [
    {
     "data": {
      "text/plain": [
       "{(0, 1): Text(0.012337238859542271, 0.6023532149312407, '5.0'),\n",
       " (0, 3): Text(-0.3431371443275642, 0.24959188873650634, '5.0'),\n",
       " (1, 0): Text(0.012337238859542271, 0.6023532149312407, '5.0'),\n",
       " (1, 2): Text(0.34313714432756415, -0.24959188873650623, '1.0'),\n",
       " (1, 3): Text(0.06592097759399981, 0.1480548963322531, '2.0'),\n",
       " (2, 1): Text(0.34313714432756415, -0.24959188873650623, '1.0'),\n",
       " (2, 3): Text(-0.012337238859542299, -0.6023532149312407, '4.0'),\n",
       " (3, 0): Text(-0.3431371443275642, 0.24959188873650634, '5.0'),\n",
       " (3, 1): Text(0.06592097759399981, 0.1480548963322531, '2.0'),\n",
       " (3, 2): Text(-0.012337238859542299, -0.6023532149312407, '4.0')}"
      ]
     },
     "execution_count": 222,
     "metadata": {},
     "output_type": "execute_result"
    },
    {
     "data": {
      "image/png": "[encoded data removed]",
      "text/plain": [
       "<Figure size 640x480 with 1 Axes>"
      ]
     },
     "metadata": {},
     "output_type": "display_data"
    }
   ],
   "source": [
    "G = nx.from_numpy_matrix(np.matrix(g.adj_mat), create_using=nx.DiGraph)\n",
    "layout = nx.spring_layout(G)\n",
    "nx.draw_networkx(G, layout)\n",
    "\n",
    "labels = nx.get_edge_attributes(G, \"weight\")\n",
    "nx.draw_networkx_edge_labels(G, pos=layout, edge_labels=labels)\n"
   ]
  },
  {
   "cell_type": "markdown",
   "id": "e6829c05",
   "metadata": {},
   "source": [
    "visited = {v1}\n",
    "\n",
    "store all outgoing edges from visited in a priority queue\n",
    "\n",
    "while (not all vertices in visited):\n",
    "\t\n",
    "    pop the lowest weight edge from the priority queue\n",
    "\t\n",
    "    if the destination vertex of the edge is not in visited:\n",
    "\t\n",
    "        add this edge to the MST\n",
    "\n",
    "        add the destination vertex to visited\n",
    "\n",
    "        add all outgoing edges from the destination vertex into priority queue"
   ]
  },
  {
   "cell_type": "code",
   "execution_count": 223,
   "id": "2b8d05cb",
   "metadata": {},
   "outputs": [],
   "source": [
    "def _process_edges(edge_array):\n",
    "        \n",
    "    \"\"\"TODO\"\"\"\n",
    "    edges_to_keep = list(np.where(edge_array > 0)[0])\n",
    "\n",
    "#     print(edges_to_keep)\n",
    "    return [(edge_array[i], i) for i in edges_to_keep]\n"
   ]
  },
  {
   "cell_type": "code",
   "execution_count": 224,
   "id": "105014dc",
   "metadata": {},
   "outputs": [],
   "source": [
    "t = mst.Graph('data/small.csv')\n",
    "\n",
    "g = t.adj_mat\n",
    "\n",
    "np.random.seed(3)\n",
    "\n",
    "#remove loops\n",
    "for i in range(g.shape[0]):\n",
    "    g[i,i] = 0\n",
    "    \n",
    "#select random node as start node\n",
    "prev = np.random.randint(g.shape[0])\n",
    "h = _process_edges(g[prev])\n",
    "#add edges to heap\n",
    "heapq.heapify(h)\n",
    "visited = [prev]\n",
    "\n",
    "mst_rv = np.zeros_like(g)\n",
    "\n",
    "all_nodes = set(np.arange(g.shape[0]))\n",
    "\n",
    "while set(visited) != all_nodes:\n",
    "        \n",
    "    if len(h) == 0:\n",
    "        \n",
    "        raise ValueError(\"Heap became empty before all nodes were added to MST\")\n",
    "        \n",
    "    weight, node_index = heapq.heappop(h)\n",
    "        \n",
    "    if node_index in visited:\n",
    "        continue\n",
    "    \n",
    "    #add to mst\n",
    "    mst_rv[prev,node_index] = weight\n",
    "    mst_rv[node_index,prev] = weight\n",
    "    \n",
    "    #add child edges to heap\n",
    "    next_edges = _process_edges(g[node_index])\n",
    "    for val, idx in next_edges:\n",
    "        heapq.heappush(h, (val,idx))\n",
    "        \n",
    "    #add node to visited\n",
    "    visited += [node_index]\n"
   ]
  },
  {
   "cell_type": "code",
   "execution_count": null,
   "id": "e006e1f3",
   "metadata": {},
   "outputs": [],
   "source": []
  }
 ],
 "metadata": {
  "kernelspec": {
   "display_name": "Python 3 (ipykernel)",
   "language": "python",
   "name": "python3"
  },
  "language_info": {
   "codemirror_mode": {
    "name": "ipython",
    "version": 3
   },
   "file_extension": ".py",
   "mimetype": "text/x-python",
   "name": "python",
   "nbconvert_exporter": "python",
   "pygments_lexer": "ipython3",
   "version": "3.9.13"
  }
 },
 "nbformat": 4,
 "nbformat_minor": 5
}
